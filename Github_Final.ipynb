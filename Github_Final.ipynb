{
 "cells": [
  {
   "cell_type": "code",
   "execution_count": 1,
   "metadata": {},
   "outputs": [
    {
     "name": "stdout",
     "output_type": "stream",
     "text": [
      "Requirement already satisfied: mysql-connector-python in c:\\users\\dell\\appdata\\local\\programs\\python\\python312\\lib\\site-packages (9.0.0)Note: you may need to restart the kernel to use updated packages.\n",
      "\n"
     ]
    }
   ],
   "source": [
    "pip install mysql-connector-python"
   ]
  },
  {
   "cell_type": "code",
   "execution_count": 2,
   "metadata": {},
   "outputs": [
    {
     "name": "stdout",
     "output_type": "stream",
     "text": [
      "Requirement already satisfied: mysqlclient in c:\\users\\dell\\appdata\\local\\programs\\python\\python312\\lib\\site-packages (2.2.4)\n",
      "Note: you may need to restart the kernel to use updated packages.\n"
     ]
    }
   ],
   "source": [
    "pip install mysqlclient\n"
   ]
  },
  {
   "cell_type": "code",
   "execution_count": 3,
   "metadata": {
    "dotnet_interactive": {
     "language": "csharp"
    },
    "polyglot_notebook": {
     "kernelName": "csharp"
    }
   },
   "outputs": [],
   "source": [
    "import requests\n",
    "import pandas as pd\n",
    "import mysql.connector as db\n",
    "import numpy as np\n"
   ]
  },
  {
   "cell_type": "code",
   "execution_count": 4,
   "metadata": {},
   "outputs": [],
   "source": [
    "from datetime import datetime"
   ]
  },
  {
   "cell_type": "code",
   "execution_count": 5,
   "metadata": {},
   "outputs": [],
   "source": [
    "mydb = db.connect(\n",
    "    host=\"127.0.0.1\",\n",
    "    port=\"3306\",\n",
    "    user=\"root\",\n",
    "    password=\"your_password\",\n",
    "    database=\"sudesh1\")\n",
    "\n",
    "mycursor = mydb.cursor()"
   ]
  },
  {
   "cell_type": "code",
   "execution_count": 30,
   "metadata": {},
   "outputs": [
    {
     "name": "stdout",
     "output_type": "stream",
     "text": [
      "Fetching repositories for topic: machine learning\n",
      "Fetching repositories for topic: data visualization\n",
      "Fetching repositories for topic: deep learning\n",
      "Fetching repositories for topic: natural language processing\n",
      "Fetching repositories for topic: artificial intelligence\n",
      "Fetching repositories for topic: hypothesis testing\n",
      "Fetching repositories for topic: time series analysis\n",
      "Fetching repositories for topic: amazon sagemaker\n",
      "Fetching repositories for topic: tensorflow\n",
      "Fetching repositories for topic: Generative AI\n"
     ]
    },
    {
     "data": {
      "text/html": [
       "<div>\n",
       "<style scoped>\n",
       "    .dataframe tbody tr th:only-of-type {\n",
       "        vertical-align: middle;\n",
       "    }\n",
       "\n",
       "    .dataframe tbody tr th {\n",
       "        vertical-align: top;\n",
       "    }\n",
       "\n",
       "    .dataframe thead th {\n",
       "        text-align: right;\n",
       "    }\n",
       "</style>\n",
       "<table border=\"1\" class=\"dataframe\">\n",
       "  <thead>\n",
       "    <tr style=\"text-align: right;\">\n",
       "      <th></th>\n",
       "      <th>Repository Name</th>\n",
       "      <th>Owner</th>\n",
       "      <th>Description</th>\n",
       "      <th>URL</th>\n",
       "      <th>Programming Language</th>\n",
       "      <th>Creation Date</th>\n",
       "      <th>Last Updated Date</th>\n",
       "      <th>Number of Stars</th>\n",
       "      <th>Number of Forks</th>\n",
       "      <th>Number of Open Issues</th>\n",
       "      <th>License Type</th>\n",
       "    </tr>\n",
       "  </thead>\n",
       "  <tbody>\n",
       "    <tr>\n",
       "      <th>0</th>\n",
       "      <td>tensorflow</td>\n",
       "      <td>tensorflow</td>\n",
       "      <td>An Open Source Machine Learning Framework for ...</td>\n",
       "      <td>https://github.com/tensorflow/tensorflow</td>\n",
       "      <td>C++</td>\n",
       "      <td>2015-11-07T01:19:20Z</td>\n",
       "      <td>2024-10-07T05:02:16Z</td>\n",
       "      <td>185871</td>\n",
       "      <td>74232</td>\n",
       "      <td>5056</td>\n",
       "      <td>Apache License 2.0</td>\n",
       "    </tr>\n",
       "    <tr>\n",
       "      <th>1</th>\n",
       "      <td>transformers</td>\n",
       "      <td>huggingface</td>\n",
       "      <td>🤗 Transformers: State-of-the-art Machine Learn...</td>\n",
       "      <td>https://github.com/huggingface/transformers</td>\n",
       "      <td>Python</td>\n",
       "      <td>2018-10-29T13:56:00Z</td>\n",
       "      <td>2024-10-07T04:46:24Z</td>\n",
       "      <td>133004</td>\n",
       "      <td>26538</td>\n",
       "      <td>1470</td>\n",
       "      <td>Apache License 2.0</td>\n",
       "    </tr>\n",
       "    <tr>\n",
       "      <th>2</th>\n",
       "      <td>ML-For-Beginners</td>\n",
       "      <td>microsoft</td>\n",
       "      <td>12 weeks, 26 lessons, 52 quizzes, classic Mach...</td>\n",
       "      <td>https://github.com/microsoft/ML-For-Beginners</td>\n",
       "      <td>HTML</td>\n",
       "      <td>2021-03-03T01:34:05Z</td>\n",
       "      <td>2024-10-07T05:17:41Z</td>\n",
       "      <td>69335</td>\n",
       "      <td>14346</td>\n",
       "      <td>9</td>\n",
       "      <td>MIT License</td>\n",
       "    </tr>\n",
       "    <tr>\n",
       "      <th>3</th>\n",
       "      <td>funNLP</td>\n",
       "      <td>fighting41love</td>\n",
       "      <td>中英文敏感词、语言检测、中外手机/电话归属地/运营商查询、名字推断性别、手机号抽取、身份证抽...</td>\n",
       "      <td>https://github.com/fighting41love/funNLP</td>\n",
       "      <td>Python</td>\n",
       "      <td>2018-08-21T11:20:39Z</td>\n",
       "      <td>2024-10-07T05:11:23Z</td>\n",
       "      <td>68067</td>\n",
       "      <td>14440</td>\n",
       "      <td>28</td>\n",
       "      <td>No License</td>\n",
       "    </tr>\n",
       "    <tr>\n",
       "      <th>4</th>\n",
       "      <td>awesome-machine-learning</td>\n",
       "      <td>josephmisiti</td>\n",
       "      <td>A curated list of awesome Machine Learning fra...</td>\n",
       "      <td>https://github.com/josephmisiti/awesome-machin...</td>\n",
       "      <td>Python</td>\n",
       "      <td>2014-07-15T19:11:19Z</td>\n",
       "      <td>2024-10-07T05:25:49Z</td>\n",
       "      <td>65617</td>\n",
       "      <td>14596</td>\n",
       "      <td>7</td>\n",
       "      <td>Other</td>\n",
       "    </tr>\n",
       "  </tbody>\n",
       "</table>\n",
       "</div>"
      ],
      "text/plain": [
       "            Repository Name           Owner  \\\n",
       "0                tensorflow      tensorflow   \n",
       "1              transformers     huggingface   \n",
       "2          ML-For-Beginners       microsoft   \n",
       "3                    funNLP  fighting41love   \n",
       "4  awesome-machine-learning    josephmisiti   \n",
       "\n",
       "                                         Description  \\\n",
       "0  An Open Source Machine Learning Framework for ...   \n",
       "1  🤗 Transformers: State-of-the-art Machine Learn...   \n",
       "2  12 weeks, 26 lessons, 52 quizzes, classic Mach...   \n",
       "3  中英文敏感词、语言检测、中外手机/电话归属地/运营商查询、名字推断性别、手机号抽取、身份证抽...   \n",
       "4  A curated list of awesome Machine Learning fra...   \n",
       "\n",
       "                                                 URL Programming Language  \\\n",
       "0           https://github.com/tensorflow/tensorflow                  C++   \n",
       "1        https://github.com/huggingface/transformers               Python   \n",
       "2      https://github.com/microsoft/ML-For-Beginners                 HTML   \n",
       "3           https://github.com/fighting41love/funNLP               Python   \n",
       "4  https://github.com/josephmisiti/awesome-machin...               Python   \n",
       "\n",
       "          Creation Date     Last Updated Date  Number of Stars  \\\n",
       "0  2015-11-07T01:19:20Z  2024-10-07T05:02:16Z           185871   \n",
       "1  2018-10-29T13:56:00Z  2024-10-07T04:46:24Z           133004   \n",
       "2  2021-03-03T01:34:05Z  2024-10-07T05:17:41Z            69335   \n",
       "3  2018-08-21T11:20:39Z  2024-10-07T05:11:23Z            68067   \n",
       "4  2014-07-15T19:11:19Z  2024-10-07T05:25:49Z            65617   \n",
       "\n",
       "   Number of Forks  Number of Open Issues        License Type  \n",
       "0            74232                   5056  Apache License 2.0  \n",
       "1            26538                   1470  Apache License 2.0  \n",
       "2            14346                      9         MIT License  \n",
       "3            14440                     28          No License  \n",
       "4            14596                      7               Other  "
      ]
     },
     "execution_count": 30,
     "metadata": {},
     "output_type": "execute_result"
    }
   ],
   "source": [
    "# Loading GitHub Personal Access Token\n",
    "with open(\"token.txt\", \"r\") as file:\n",
    "    GITHUB_TOKEN = file.read().strip() \n",
    "\n",
    "# GitHub API URL\n",
    "GITHUB_API_URL = \"https://api.github.com/search/repositories\"\n",
    "\n",
    "# Headers for authentication\n",
    "authentication = {\"Authorization\": f\"Token {GITHUB_TOKEN}\"}\n",
    "\n",
    "# List of 10 currently trending topics in the data world\n",
    "topics = [\"machine learning\", \"data visualization\", \"deep learning\",\n",
    "          \"natural language processing\", \"artificial intelligence\", \"hypothesis testing\",\n",
    "          \"time series analysis\", \"amazon sagemaker\", \"tensorflow\", \"Generative AI\"]\n",
    "\n",
    "# Function to fetch repositories for a specific topic with pagination\n",
    "def fetch_repositories(topic, max_repos=100):\n",
    "    repositories = []\n",
    "    page = 1\n",
    "    while len(repositories) < max_repos:\n",
    "        parameter = {\n",
    "            \"q\": topic,  # Query parameter for searching repositories by topic\n",
    "            \"sort\": \"stars\",  # Sorting by stars to get the most popular repositories\n",
    "            \"order\": \"desc\",\n",
    "            \"per_page\": 100,  # Number of repositories per page\n",
    "            \"page\": page  # Pagination control\n",
    "        }\n",
    "        response = requests.get(GITHUB_API_URL, headers=authentication, params=parameter)\n",
    "        if response.status_code == 200:\n",
    "            repos = response.json()[\"items\"]\n",
    "            repositories.extend(repos)\n",
    "            if len(repos) < 100:  # If fewer than 100 repos are returned, exit the loop\n",
    "                break\n",
    "        else:\n",
    "            print(f\"Failed to fetch data for {topic}: {response.status_code}\")\n",
    "            break\n",
    "        page += 1\n",
    "\n",
    "    return repositories[:max_repos]  # Return only up to the max_repos specified\n",
    "\n",
    "# List to store the extracted repository data\n",
    "repositories_data = []\n",
    "\n",
    "# Extract data for each topic\n",
    "for topic in topics:\n",
    "    print(f\"Fetching repositories for topic: {topic}\")\n",
    "    repos = fetch_repositories(topic)\n",
    "    for repo in repos:\n",
    "        repositories_data.append({\n",
    "            \"Repository Name\": repo[\"name\"],\n",
    "            \"Owner\": repo[\"owner\"][\"login\"],\n",
    "            \"Description\": repo[\"description\"],\n",
    "            \"URL\": repo[\"html_url\"],\n",
    "            \"Programming Language\": repo[\"language\"],\n",
    "            \"Creation Date\": repo[\"created_at\"],\n",
    "            \"Last Updated Date\": repo[\"updated_at\"],\n",
    "            \"Number of Stars\": repo[\"stargazers_count\"],\n",
    "            \"Number of Forks\": repo[\"forks_count\"],\n",
    "            \"Number of Open Issues\": repo[\"open_issues_count\"],\n",
    "            \"License Type\": repo[\"license\"][\"name\"] if repo[\"license\"] else \"No License\"\n",
    "        })\n",
    "\n",
    "# Convert the data to a DataFrame\n",
    "df = pd.DataFrame(repositories_data)\n",
    "df.head()"
   ]
  },
  {
   "cell_type": "code",
   "execution_count": 31,
   "metadata": {},
   "outputs": [
    {
     "data": {
      "text/plain": [
       "(1000, 11)"
      ]
     },
     "execution_count": 31,
     "metadata": {},
     "output_type": "execute_result"
    }
   ],
   "source": [
    "# Data Cleaning\n",
    "df.shape"
   ]
  },
  {
   "cell_type": "code",
   "execution_count": 32,
   "metadata": {},
   "outputs": [
    {
     "name": "stdout",
     "output_type": "stream",
     "text": [
      "<class 'pandas.core.frame.DataFrame'>\n",
      "RangeIndex: 1000 entries, 0 to 999\n",
      "Data columns (total 11 columns):\n",
      " #   Column                 Non-Null Count  Dtype \n",
      "---  ------                 --------------  ----- \n",
      " 0   Repository Name        1000 non-null   object\n",
      " 1   Owner                  1000 non-null   object\n",
      " 2   Description            984 non-null    object\n",
      " 3   URL                    1000 non-null   object\n",
      " 4   Programming Language   867 non-null    object\n",
      " 5   Creation Date          1000 non-null   object\n",
      " 6   Last Updated Date      1000 non-null   object\n",
      " 7   Number of Stars        1000 non-null   int64 \n",
      " 8   Number of Forks        1000 non-null   int64 \n",
      " 9   Number of Open Issues  1000 non-null   int64 \n",
      " 10  License Type           1000 non-null   object\n",
      "dtypes: int64(3), object(8)\n",
      "memory usage: 86.1+ KB\n"
     ]
    }
   ],
   "source": [
    "df.info() # show full info"
   ]
  },
  {
   "cell_type": "code",
   "execution_count": 9,
   "metadata": {},
   "outputs": [
    {
     "data": {
      "text/plain": [
       "Repository Name             0\n",
       "Owner                       0\n",
       "Description               650\n",
       "URL                         0\n",
       "Programming Language     1042\n",
       "Creation Date               0\n",
       "Last Updated Date           0\n",
       "Number of Stars             0\n",
       "Number of Forks             0\n",
       "Number of Open Issues       0\n",
       "License Type                0\n",
       "dtype: int64"
      ]
     },
     "execution_count": 9,
     "metadata": {},
     "output_type": "execute_result"
    }
   ],
   "source": [
    "df.isna().sum() # check null"
   ]
  },
  {
   "cell_type": "code",
   "execution_count": 10,
   "metadata": {},
   "outputs": [
    {
     "name": "stdout",
     "output_type": "stream",
     "text": [
      "            Repository Name           Owner  \\\n",
      "0                tensorflow      tensorflow   \n",
      "1              transformers     huggingface   \n",
      "2          ML-For-Beginners       microsoft   \n",
      "3                    funNLP  fighting41love   \n",
      "4  awesome-machine-learning    josephmisiti   \n",
      "\n",
      "                                         Description  \\\n",
      "0  An Open Source Machine Learning Framework for ...   \n",
      "1  🤗 Transformers: State-of-the-art Machine Learn...   \n",
      "2  12 weeks, 26 lessons, 52 quizzes, classic Mach...   \n",
      "3  中英文敏感词、语言检测、中外手机/电话归属地/运营商查询、名字推断性别、手机号抽取、身份证抽...   \n",
      "4  A curated list of awesome Machine Learning fra...   \n",
      "\n",
      "                                                 URL Programming Language  \\\n",
      "0           https://github.com/tensorflow/tensorflow                  C++   \n",
      "1        https://github.com/huggingface/transformers               Python   \n",
      "2      https://github.com/microsoft/ML-For-Beginners                 HTML   \n",
      "3           https://github.com/fighting41love/funNLP               Python   \n",
      "4  https://github.com/josephmisiti/awesome-machin...               Python   \n",
      "\n",
      "              Creation Date         Last Updated Date  Number of Stars  \\\n",
      "0 2015-11-07 01:19:20+00:00 2024-10-07 05:02:16+00:00           185871   \n",
      "1 2018-10-29 13:56:00+00:00 2024-10-07 04:46:24+00:00           133004   \n",
      "2 2021-03-03 01:34:05+00:00 2024-10-07 05:17:41+00:00            69335   \n",
      "3 2018-08-21 11:20:39+00:00 2024-10-07 05:11:23+00:00            68067   \n",
      "4 2014-07-15 19:11:19+00:00 2024-10-06 22:08:20+00:00            65616   \n",
      "\n",
      "   Number of Forks  Number of Open Issues        License Type  \n",
      "0            74232                   5056  Apache License 2.0  \n",
      "1            26538                   1470  Apache License 2.0  \n",
      "2            14346                      9         MIT License  \n",
      "3            14440                     28          No License  \n",
      "4            14596                      7               Other  \n"
     ]
    },
    {
     "name": "stderr",
     "output_type": "stream",
     "text": [
      "C:\\Users\\DELL\\AppData\\Local\\Temp\\ipykernel_10740\\2105133990.py:7: FutureWarning: A value is trying to be set on a copy of a DataFrame or Series through chained assignment using an inplace method.\n",
      "The behavior will change in pandas 3.0. This inplace method will never work because the intermediate object on which we are setting values always behaves as a copy.\n",
      "\n",
      "For example, when doing 'df[col].method(value, inplace=True)', try using 'df.method({col: value}, inplace=True)' or df[col] = df[col].method(value) instead, to perform the operation inplace on the original object.\n",
      "\n",
      "\n",
      "  df['Description'].fillna('No Description', inplace=True)\n",
      "C:\\Users\\DELL\\AppData\\Local\\Temp\\ipykernel_10740\\2105133990.py:8: FutureWarning: A value is trying to be set on a copy of a DataFrame or Series through chained assignment using an inplace method.\n",
      "The behavior will change in pandas 3.0. This inplace method will never work because the intermediate object on which we are setting values always behaves as a copy.\n",
      "\n",
      "For example, when doing 'df[col].method(value, inplace=True)', try using 'df.method({col: value}, inplace=True)' or df[col] = df[col].method(value) instead, to perform the operation inplace on the original object.\n",
      "\n",
      "\n",
      "  df['License Type'].fillna('No License', inplace=True)\n"
     ]
    }
   ],
   "source": [
    "df['Creation Date'] = pd.to_datetime(df['Creation Date']) # convert data type\n",
    "df['Last Updated Date'] = pd.to_datetime(df['Last Updated Date'])\n",
    "\n",
    "# HANDLING NULL VALUES\n",
    "\n",
    "df = df.replace({np.nan: None})\n",
    "df['Description'].fillna('No Description', inplace=True)\n",
    "df['License Type'].fillna('No License', inplace=True)\n",
    "\n",
    "# Preview cleaned data\n",
    "print(df.head())"
   ]
  },
  {
   "cell_type": "code",
   "execution_count": 11,
   "metadata": {},
   "outputs": [
    {
     "data": {
      "text/plain": [
       "9629    A Study in Artificial Intelligence - Simple sc...\n",
       "4418                        『PythonによるAIプログラミング入門』のリポジトリ \n",
       "2100    The easiest way to use deep metric learning in...\n",
       "Name: Description, dtype: object"
      ]
     },
     "execution_count": 11,
     "metadata": {},
     "output_type": "execute_result"
    }
   ],
   "source": [
    "df[\"Description\"].sample(3)"
   ]
  },
  {
   "cell_type": "code",
   "execution_count": 12,
   "metadata": {},
   "outputs": [
    {
     "data": {
      "text/plain": [
       "241893"
      ]
     },
     "execution_count": 12,
     "metadata": {},
     "output_type": "execute_result"
    }
   ],
   "source": [
    "max_description_length = df['Description'].str.len().max()\n",
    "max_description_length"
   ]
  },
  {
   "cell_type": "code",
   "execution_count": 13,
   "metadata": {},
   "outputs": [],
   "source": [
    "df['Description'] = df['Description'].str[:255]\n"
   ]
  },
  {
   "cell_type": "code",
   "execution_count": 14,
   "metadata": {},
   "outputs": [
    {
     "name": "stdout",
     "output_type": "stream",
     "text": [
      "<class 'pandas.core.frame.DataFrame'>\n",
      "Index: 9511 entries, 0 to 9999\n",
      "Data columns (total 11 columns):\n",
      " #   Column                 Non-Null Count  Dtype              \n",
      "---  ------                 --------------  -----              \n",
      " 0   Repository Name        9511 non-null   object             \n",
      " 1   Owner                  9511 non-null   object             \n",
      " 2   Description            9511 non-null   object             \n",
      " 3   URL                    9511 non-null   object             \n",
      " 4   Programming Language   8557 non-null   object             \n",
      " 5   Creation Date          9511 non-null   datetime64[ns, UTC]\n",
      " 6   Last Updated Date      9511 non-null   datetime64[ns, UTC]\n",
      " 7   Number of Stars        9511 non-null   int64              \n",
      " 8   Number of Forks        9511 non-null   int64              \n",
      " 9   Number of Open Issues  9511 non-null   int64              \n",
      " 10  License Type           9511 non-null   object             \n",
      "dtypes: datetime64[ns, UTC](2), int64(3), object(6)\n",
      "memory usage: 891.7+ KB\n"
     ]
    }
   ],
   "source": [
    "df.drop_duplicates(inplace=True)\n",
    "df.info()"
   ]
  },
  {
   "cell_type": "code",
   "execution_count": 15,
   "metadata": {},
   "outputs": [
    {
     "data": {
      "text/plain": [
       "Programming Language\n",
       "Jupyter Notebook    2966\n",
       "Python              2843\n",
       "JavaScript           473\n",
       "R                    299\n",
       "TypeScript           292\n",
       "                    ... \n",
       "VBA                    1\n",
       "HLSL                   1\n",
       "Rich Text Format       1\n",
       "NetLogo                1\n",
       "V                      1\n",
       "Name: count, Length: 107, dtype: int64"
      ]
     },
     "execution_count": 15,
     "metadata": {},
     "output_type": "execute_result"
    }
   ],
   "source": [
    "df[\"Programming Language\"].value_counts()\n"
   ]
  },
  {
   "cell_type": "code",
   "execution_count": 16,
   "metadata": {},
   "outputs": [
    {
     "data": {
      "text/plain": [
       "954"
      ]
     },
     "execution_count": 16,
     "metadata": {},
     "output_type": "execute_result"
    }
   ],
   "source": [
    "# Find NaN values in the 'Programming Language' column\n",
    "total_nan_val = df['Programming Language'].isna().sum()\n",
    "total_nan_val"
   ]
  },
  {
   "cell_type": "markdown",
   "metadata": {},
   "source": [
    "Since the value counts of Python and Jupyter Notebook are close\n",
    "Randomly assign the remaining NaN values with Python or Jupyter Notebook based on the ratio"
   ]
  },
  {
   "cell_type": "code",
   "execution_count": 17,
   "metadata": {},
   "outputs": [],
   "source": [
    "fill_values = ['Python', 'Jupyter Notebook']\n",
    "\n",
    "nan_val = df['Programming Language'].isna()\n",
    "\n",
    "# Randomly select between 'Python' and 'Jupyter Notebook' to fill NaN values\n",
    "df.loc[nan_val, 'Programming Language'] = np.random.choice(fill_values, size=nan_val.sum())"
   ]
  },
  {
   "cell_type": "code",
   "execution_count": 18,
   "metadata": {},
   "outputs": [
    {
     "data": {
      "text/plain": [
       "(9511, 11)"
      ]
     },
     "execution_count": 18,
     "metadata": {},
     "output_type": "execute_result"
    }
   ],
   "source": [
    "df.shape\n"
   ]
  },
  {
   "cell_type": "code",
   "execution_count": 19,
   "metadata": {},
   "outputs": [
    {
     "data": {
      "text/plain": [
       "Repository Name          0\n",
       "Owner                    0\n",
       "Description              0\n",
       "URL                      0\n",
       "Programming Language     0\n",
       "Creation Date            0\n",
       "Last Updated Date        0\n",
       "Number of Stars          0\n",
       "Number of Forks          0\n",
       "Number of Open Issues    0\n",
       "License Type             0\n",
       "dtype: int64"
      ]
     },
     "execution_count": 19,
     "metadata": {},
     "output_type": "execute_result"
    }
   ],
   "source": [
    "df.isna().sum()"
   ]
  },
  {
   "cell_type": "code",
   "execution_count": 20,
   "metadata": {},
   "outputs": [
    {
     "data": {
      "text/html": [
       "<div>\n",
       "<style scoped>\n",
       "    .dataframe tbody tr th:only-of-type {\n",
       "        vertical-align: middle;\n",
       "    }\n",
       "\n",
       "    .dataframe tbody tr th {\n",
       "        vertical-align: top;\n",
       "    }\n",
       "\n",
       "    .dataframe thead th {\n",
       "        text-align: right;\n",
       "    }\n",
       "</style>\n",
       "<table border=\"1\" class=\"dataframe\">\n",
       "  <thead>\n",
       "    <tr style=\"text-align: right;\">\n",
       "      <th></th>\n",
       "      <th>Total Unique Values</th>\n",
       "    </tr>\n",
       "  </thead>\n",
       "  <tbody>\n",
       "    <tr>\n",
       "      <th>Repository Name</th>\n",
       "      <td>8883</td>\n",
       "    </tr>\n",
       "    <tr>\n",
       "      <th>Owner</th>\n",
       "      <td>7356</td>\n",
       "    </tr>\n",
       "    <tr>\n",
       "      <th>Description</th>\n",
       "      <td>8793</td>\n",
       "    </tr>\n",
       "    <tr>\n",
       "      <th>URL</th>\n",
       "      <td>9508</td>\n",
       "    </tr>\n",
       "    <tr>\n",
       "      <th>Programming Language</th>\n",
       "      <td>107</td>\n",
       "    </tr>\n",
       "    <tr>\n",
       "      <th>Creation Date</th>\n",
       "      <td>9508</td>\n",
       "    </tr>\n",
       "    <tr>\n",
       "      <th>Last Updated Date</th>\n",
       "      <td>9484</td>\n",
       "    </tr>\n",
       "    <tr>\n",
       "      <th>Number of Stars</th>\n",
       "      <td>2262</td>\n",
       "    </tr>\n",
       "    <tr>\n",
       "      <th>Number of Forks</th>\n",
       "      <td>1154</td>\n",
       "    </tr>\n",
       "    <tr>\n",
       "      <th>Number of Open Issues</th>\n",
       "      <td>368</td>\n",
       "    </tr>\n",
       "    <tr>\n",
       "      <th>License Type</th>\n",
       "      <td>28</td>\n",
       "    </tr>\n",
       "  </tbody>\n",
       "</table>\n",
       "</div>"
      ],
      "text/plain": [
       "                       Total Unique Values\n",
       "Repository Name                       8883\n",
       "Owner                                 7356\n",
       "Description                           8793\n",
       "URL                                   9508\n",
       "Programming Language                   107\n",
       "Creation Date                         9508\n",
       "Last Updated Date                     9484\n",
       "Number of Stars                       2262\n",
       "Number of Forks                       1154\n",
       "Number of Open Issues                  368\n",
       "License Type                            28"
      ]
     },
     "execution_count": 20,
     "metadata": {},
     "output_type": "execute_result"
    }
   ],
   "source": [
    "unique_number = []\n",
    "for i in df.columns:\n",
    "    x = df[i].value_counts().count()\n",
    "    unique_number.append(x)\n",
    "\n",
    "pd.DataFrame(unique_number, index = df.columns, columns = [\"Total Unique Values\"])"
   ]
  },
  {
   "cell_type": "code",
   "execution_count": 21,
   "metadata": {},
   "outputs": [
    {
     "data": {
      "text/plain": [
       "(9511, 11)"
      ]
     },
     "execution_count": 21,
     "metadata": {},
     "output_type": "execute_result"
    }
   ],
   "source": [
    "df.shape"
   ]
  },
  {
   "cell_type": "markdown",
   "metadata": {},
   "source": [
    "Seems some of the Description column contains other languages so filtering only English for better view."
   ]
  },
  {
   "cell_type": "code",
   "execution_count": 22,
   "metadata": {},
   "outputs": [
    {
     "name": "stdout",
     "output_type": "stream",
     "text": [
      "Requirement already satisfied: langdetect in c:\\users\\dell\\appdata\\local\\programs\\python\\python312\\lib\\site-packages (1.0.9)Note: you may need to restart the kernel to use updated packages.\n",
      "\n",
      "Requirement already satisfied: six in c:\\users\\dell\\appdata\\local\\programs\\python\\python312\\lib\\site-packages (from langdetect) (1.16.0)\n"
     ]
    }
   ],
   "source": [
    "pip install langdetect\n"
   ]
  },
  {
   "cell_type": "code",
   "execution_count": 23,
   "metadata": {},
   "outputs": [
    {
     "name": "stdout",
     "output_type": "stream",
     "text": [
      "<bound method NDFrame.head of                                Repository Name                 Owner  \\\n",
      "0                                   tensorflow            tensorflow   \n",
      "1                                 transformers           huggingface   \n",
      "2                             ML-For-Beginners             microsoft   \n",
      "3                                       funNLP        fighting41love   \n",
      "4                     awesome-machine-learning          josephmisiti   \n",
      "...                                        ...                   ...   \n",
      "9995               GENERATIVE_AI_DEV_INDONESIA  GlobalCreativeApkDev   \n",
      "9996           Generative-AI-Art-For-Beginners       PacktPublishing   \n",
      "9997                   Generative-AI-on-BigOne                 wuloi   \n",
      "9998               LangChain-for-Generative-AI       TirendazAcademy   \n",
      "9999  generativeai-aiml-capital-market-samples           aws-samples   \n",
      "\n",
      "                                            Description  \\\n",
      "0     An Open Source Machine Learning Framework for ...   \n",
      "1     🤗 Transformers: State-of-the-art Machine Learn...   \n",
      "2     12 weeks, 26 lessons, 52 quizzes, classic Mach...   \n",
      "3     中英文敏感词、语言检测、中外手机/电话归属地/运营商查询、名字推断性别、手机号抽取、身份证抽...   \n",
      "4     A curated list of awesome Machine Learning fra...   \n",
      "...                                                 ...   \n",
      "9995  This repository contains applications integrat...   \n",
      "9996                                     No Description   \n",
      "9997                                     No Description   \n",
      "9998  Learn LangChain for Genearative AI with OpenAI...   \n",
      "9999                                     No Description   \n",
      "\n",
      "                                                    URL Programming Language  \\\n",
      "0              https://github.com/tensorflow/tensorflow                  C++   \n",
      "1           https://github.com/huggingface/transformers               Python   \n",
      "2         https://github.com/microsoft/ML-For-Beginners                 HTML   \n",
      "3              https://github.com/fighting41love/funNLP               Python   \n",
      "4     https://github.com/josephmisiti/awesome-machin...               Python   \n",
      "...                                                 ...                  ...   \n",
      "9995  https://github.com/GlobalCreativeApkDev/GENERA...     Jupyter Notebook   \n",
      "9996  https://github.com/PacktPublishing/Generative-...     Jupyter Notebook   \n",
      "9997   https://github.com/wuloi/Generative-AI-on-BigOne     Jupyter Notebook   \n",
      "9998  https://github.com/TirendazAcademy/LangChain-f...     Jupyter Notebook   \n",
      "9999  https://github.com/aws-samples/generativeai-ai...     Jupyter Notebook   \n",
      "\n",
      "                 Creation Date         Last Updated Date  Number of Stars  \\\n",
      "0    2015-11-07 01:19:20+00:00 2024-10-07 05:02:16+00:00           185871   \n",
      "1    2018-10-29 13:56:00+00:00 2024-10-07 04:46:24+00:00           133004   \n",
      "2    2021-03-03 01:34:05+00:00 2024-10-07 05:17:41+00:00            69335   \n",
      "3    2018-08-21 11:20:39+00:00 2024-10-07 05:11:23+00:00            68067   \n",
      "4    2014-07-15 19:11:19+00:00 2024-10-06 22:08:20+00:00            65616   \n",
      "...                        ...                       ...              ...   \n",
      "9995 2024-06-07 08:40:42+00:00 2024-06-18 01:07:51+00:00                4   \n",
      "9996 2023-05-12 06:34:46+00:00 2023-06-12 13:15:02+00:00                4   \n",
      "9997 2024-07-31 06:10:23+00:00 2024-08-25 04:25:54+00:00                4   \n",
      "9998 2024-02-13 14:31:53+00:00 2024-07-29 16:33:39+00:00                4   \n",
      "9999 2024-07-02 18:30:38+00:00 2024-07-31 17:15:45+00:00                4   \n",
      "\n",
      "      Number of Forks  Number of Open Issues        License Type  \n",
      "0               74232                   5056  Apache License 2.0  \n",
      "1               26538                   1470  Apache License 2.0  \n",
      "2               14346                      9         MIT License  \n",
      "3               14440                     28          No License  \n",
      "4               14596                      7               Other  \n",
      "...               ...                    ...                 ...  \n",
      "9995                0                      0         MIT License  \n",
      "9996                0                      0         MIT License  \n",
      "9997                0                      0  Apache License 2.0  \n",
      "9998                0                      0  Apache License 2.0  \n",
      "9999                0                      2  MIT No Attribution  \n",
      "\n",
      "[9511 rows x 11 columns]>\n"
     ]
    }
   ],
   "source": [
    "df.to_csv('github_repositor.csv', index=False)\n",
    "print(df.head)"
   ]
  },
  {
   "cell_type": "code",
   "execution_count": 28,
   "metadata": {},
   "outputs": [
    {
     "name": "stdout",
     "output_type": "stream",
     "text": [
      "Data saved to MySQL database!\n"
     ]
    }
   ],
   "source": [
    "import mysql.connector\n",
    "import pandas as pd\n",
    "import numpy as np\n",
    "\n",
    "# Load CSV \n",
    "df = pd.read_csv(\"github_repositor.csv\")\n",
    "\n",
    "# Convert NaN to None \n",
    "df = df.replace({np.nan: None})\n",
    "\n",
    "df['Creation Date'] = pd.to_datetime(df['Creation Date']).dt.date\n",
    "df['Last Updated Date'] = pd.to_datetime(df['Last Updated Date']).dt.date\n",
    "\n",
    "\n",
    "\n",
    "# Create the repositories table if it doesn't exist\n",
    "create_table_query = \"\"\"\n",
    "CREATE TABLE IF NOT EXISTS reposit (\n",
    "    id INT AUTO_INCREMENT PRIMARY KEY,\n",
    "    Repository_Name VARCHAR(255) NOT NULL,\n",
    "    Owner VARCHAR(255) NOT NULL,\n",
    "    Description TEXT,\n",
    "    URL VARCHAR(255) NOT NULL,\n",
    "    Programming_Language VARCHAR(50),\n",
    "    Creation_Date DATE,\n",
    "    Last_Updated_Date DATE,\n",
    "    Number_of_Stars INT,\n",
    "    Number_of_Forks INT,\n",
    "    Number_of_Open_Issues INT,\n",
    "    License_Type VARCHAR(100)\n",
    ");\n",
    "\"\"\"\n",
    "mycursor.execute(create_table_query)\n",
    "\n",
    "# Insert DataFrame into MySQL table\n",
    "insert_query = \"\"\"\n",
    "    INSERT INTO reposit (\n",
    "        Repository_Name, \n",
    "        Owner, \n",
    "        Description, \n",
    "        URL, \n",
    "        Programming_Language, \n",
    "        Creation_Date, \n",
    "        Last_Updated_Date, \n",
    "        Number_of_Stars, \n",
    "        Number_of_Forks, \n",
    "        Number_of_Open_Issues, \n",
    "        License_Type\n",
    "    ) VALUES (%s, %s, %s, %s, %s, %s, %s, %s, %s, %s, %s)\n",
    "\"\"\"\n",
    "\n",
    "for index, row in df.iterrows():\n",
    "    val = (\n",
    "        row['Repository Name'], \n",
    "        row['Owner'], \n",
    "        row['Description'], \n",
    "        row['URL'], \n",
    "        row['Programming Language'], \n",
    "        row['Creation Date'], \n",
    "        row['Last Updated Date'], \n",
    "        row['Number of Stars'], \n",
    "        row['Number of Forks'], \n",
    "        row['Number of Open Issues'], \n",
    "        row['License Type']\n",
    "    )\n",
    "    \n",
    "    try:\n",
    "        mycursor.execute(insert_query, val)\n",
    "    except mysql.connector.Error as err:\n",
    "        print(f\"Error: {err}\")\n",
    "\n",
    "# Commit the transaction\n",
    "mydb.commit()\n",
    "print(\"Data saved to MySQL database!\")\n"
   ]
  },
  {
   "cell_type": "code",
   "execution_count": 29,
   "metadata": {},
   "outputs": [
    {
     "name": "stdout",
     "output_type": "stream",
     "text": [
      "Top 5 Programming Languages:\n",
      "Programming Language\n",
      "Jupyter Notebook    3442\n",
      "Python              3321\n",
      "JavaScript           473\n",
      "R                    299\n",
      "TypeScript           292\n",
      "Name: count, dtype: int64\n",
      "\n",
      "Top 5 Starred Repositories:\n",
      "       Repository Name  Number of Stars\n",
      "0           tensorflow           185871\n",
      "1         transformers           133004\n",
      "1000                d3           108556\n",
      "7803            models            76997\n",
      "2     ML-For-Beginners            69335\n",
      "\n",
      "Average Stars per Language:\n",
      "Programming Language\n",
      "Markdown    5709.000000\n",
      "Jsonnet     4164.000000\n",
      "MDX         4061.000000\n",
      "Shell       3154.439024\n",
      "C++         2777.833333\n",
      "Name: Number of Stars, dtype: float64\n"
     ]
    }
   ],
   "source": [
    "# Example Analysis\n",
    "\n",
    "# Top 5 prog lang by the number of repositories\n",
    "top_languages = df['Programming Language'].value_counts().head(5)\n",
    "print(\"Top 5 Programming Languages:\")\n",
    "print(top_languages)\n",
    "\n",
    "# Top 5 repositories with the most stars\n",
    "top_starred_repos = df[['Repository Name', 'Number of Stars']].sort_values(by='Number of Stars', ascending=False).head(5)\n",
    "print(\"\\nTop 5 Starred Repositories:\")\n",
    "print(top_starred_repos)\n",
    "\n",
    "# Average number of stars by programming language\n",
    "avg_stars_per_language = df.groupby('Programming Language')['Number of Stars'].mean().sort_values(ascending=False)\n",
    "print(\"\\nAverage Stars per Language:\")\n",
    "print(avg_stars_per_language.head(5))"
   ]
  }
 ],
 "metadata": {
  "kernelspec": {
   "display_name": "Python 3",
   "language": "python",
   "name": "python3"
  },
  "language_info": {
   "codemirror_mode": {
    "name": "ipython",
    "version": 3
   },
   "file_extension": ".py",
   "mimetype": "text/x-python",
   "name": "python",
   "nbconvert_exporter": "python",
   "pygments_lexer": "ipython3",
   "version": "3.12.5"
  },
  "polyglot_notebook": {
   "kernelInfo": {
    "defaultKernelName": "csharp",
    "items": [
     {
      "aliases": [],
      "name": "csharp"
     }
    ]
   }
  }
 },
 "nbformat": 4,
 "nbformat_minor": 2
}
